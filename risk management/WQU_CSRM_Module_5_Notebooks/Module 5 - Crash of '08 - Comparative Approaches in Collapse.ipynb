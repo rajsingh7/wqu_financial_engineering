{
 "cells": [
  {
   "cell_type": "markdown",
   "metadata": {},
   "source": [
    "# Quantitative Easing"
   ]
  },
  {
   "cell_type": "markdown",
   "metadata": {},
   "source": [
    "## The Problem\n",
    "In order to understand the Financial Crisis, we need to understand the effect it had on Policy Makers and Central Banks. In a superficial manner, we can understand bankruptcy and the effects of fiscal contagion as a crisis of liquidity. If banks and businesses are unable to take on more debt, or at the very least liquidate both long and short-term assets, they cannot pay debts as and when they are due- even if their total assets exceed their total liabilities- and may be brought into liquidation. When uncertainty floods particular markets and new information forces prices to adjust in the same violent fashion we see in a crash, liquidity is a critical reason for bankruptcy, and with growing uncertainty and the demands of short parties and creditors, businesses can be unable to settle these debts when they cannot sell existing stock or alter their existing positions. This can be referred to as a _crisis of a liquidity_.\n",
    "\n",
    "## The Theory\n",
    " \n",
    "Broadly, across markets, liquidity is dictated by Money Supply ($M_{s}$) and Money Demand ($M_{d}$). For consumers, there is a clear opportunity cost between holding money for consumption and investing it, often dictated by their inflation and GDP growth. Between investors and creditors, there exists strong supply and demand relationships for money, which inform general interest rates. This demand and supply relationship is largely affected by the amount of money in the banking system and the policies which govern it. Central banks manage this money supply, through the careful control of M0, M1, M2, M3 and M4 money. Depending on the policy, Central Banks can take on a number of strategies in the use of Required Reserves, Open Market Operations and Interest Rates in increasing and decreasing this money supply. Interest rates can be set inline with a number, or mixture of policy targets, these can be nominal GDP (GDP) targeting, inflation targeting or the use of Taylor's rule, which dictates that the central bank’s target interest rate should increase (decrease) if the inflation rate is above (below) its target, and should increase (decrease) if real economic activity is below (above) its target for real economic activity, according to some function. If central banks decrease money supply dramatically, we expect interest rates to increase as there exists more demand for money in the economy than fractional reserve banking will create, and so interest rates rise- forcing investor and consumer spending to slow as people are incentivized to save rather than spend on investments in the real economy and on goods and service.\n",
    " \n",
    "The primary challenge debated by macroeconomist John Hicks concerns the _impotence of monetary policy_. As interest rates decrease they begin to reach a point where they asymptote, as interest rates cannot become negative without allowing for infinite and risk-free profit for rational acting debtors. This informs a key and powerful insight in the IS-LM, and RBC models in Macroeconomics- nominal interest rates cannot fall below zero. The challenge then is how central bankers, as in the crisis, can free up targeted liquidity with nominal interest rates already near 0: the answer, Quantitative Easing or QE.\n",
    "\n",
    "![](../Media/liquidity_trap.png)\n",
    "\n",
    "In the graph above, we see the Liquidity Preference Curve. This Curve shows interest rates on the y-axis and money-supply on the x-axis. As Money-Supply increases, we interest rates decreases at a decreasing rate. This shape is caused by three main phenomena:\n",
    "1. __Transactions motive__: People rely on various forms of cash in order to transact for goods and services.\n",
    "2. __Precautionary motive__: People prefer liquidity in the case of unexpected problems\n",
    "3. __Speculative motive__: People choose liquidity to act on future investment opportunities when returns improve\n",
    " \n",
    "The problem with the flat-end of the Liquidity Preference Curve is its effect on Monetary Policy. As the curve flattens, large changes in Monetary Supply no longer cause adequate movements in interest rates to cause an effect on the real economy. This renders traditional Monetary Policy impotent.\n",
    "\n",
    "# The Plan\n",
    "\n",
    "QE generally refers to long-term asset purchases by the central bank when there is a liquidity trap in the hope of introducing liquidity into the market to allow for new investments in the real economy and the restructuring of existing financial investments. Unlike a _Helicopter money_ or just _printing money_, QE aims to both be targetted at the source of market contagion, and aims to be rather a balance sheet change- in which assets and liabilities never change- rather than the introduction of new exogenous money.\n",
    " \n",
    "For Commercial Banks and Central Banks, these changes can be shown in the tables below, where Central Banks take on long-term assets, free up liquidity.\n",
    "\n",
    "| Commercial Banks' Balance Sheet |\n",
    "|:-------------------------------:|\n",
    "| |\n",
    " \n",
    "| __Assets__ | __Liabilities__ |\n",
    "|:----------------------------------------------:|:-----------------:|\n",
    "| _Cash reserves_ (QE) | Demand deposits |\n",
    "| _Loans to private sector_ (QE) | |\n",
    "| _Loans to Government (bonds)_ (QE) | Savings deposits |\n",
    "| Open market operations with Central Bank (OMO) | |\n",
    "| __Total Assets__ | __Money__ |\n",
    " \n",
    " \n",
    "| Central Banks' Balance Sheet |\n",
    "|:-------------------------------:|\n",
    "| |\n",
    " \n",
    "| __Assets__ | __Liabilities__ |\n",
    "|:----------------------------------------------:|:-------------------------------------:|\n",
    "| Net Foreign Reserves | |\n",
    "| Credit to Government $\\uparrow$ | Currency in circulation |\n",
    "| Net asset purchase from banks (QE) $\\uparrow$ | Banks’ deposits (reserves) $\\uparrow$ |\n",
    "| __Total Assets__ | __Reserve Money__ |\n",
    "\n",
    "In the graph below we can see a fascinating shift in Central Bank Assets, as they bought up long-term Government Bonds, MBS and other assets across some key stages. Between 2008 and 2014, we saw the Federal Reserve in the United States take on an additional \\$3,53 billion in assets, radically decreasing the Duration of Fixed-Income Assets on the Balance Sheets of Financial Institutions in the United States.\n",
    "![](../Media/US_FR_QE_Assets.jpg)\n",
    "\n",
    "The aim of this policy was simple and two-fold. By replacing the long-term assets with more liquid assets, they decrease the balance sheet risk of Financial Institutions. The hope in term was to avoid the contagion and bankruptcy of these institutions and free up room for consumer investment and spending, by allowing banks to issue to loans and credit.\n",
    " \n",
    "Additionally, by decreasing interest rates ($\\downarrow i$) and increasing the risk banks can take on for consumers, they increase consumer investment and spending ($\\uparrow C, I$), as well as increasing bond prices which should stimulate the market and fix the liquidity problem in the fixed income markets. This effect, along with the increase in money supply should also, in theory, weaken the countries currency ($\\downarrow E$)- increasing net exports ($ \\uparrow X- M $). The hope was that these interventions should increase GDP ($\\uparrow Y$), and stabilize employment and financial institutions.\n",
    "\n",
    "We will denote these effects using their short-hand, used in most Macro-economic literature and textbooks:\n",
    "\n",
    "$$\\downarrow i \\rightarrow \\uparrow C, I \\rightarrow \\uparrow Y $$\n",
    "$$\\text{(raise output)}$$\n",
    "\n",
    "$$\\downarrow i \\rightarrow \\uparrow B $$\n",
    "$$\\text{(raise value of securities)}$$\n",
    "\n",
    "$$ \\uparrow M_{s} \\rightarrow \\downarrow E \\rightarrow \\uparrow (X-M) ,Y $$"
   ]
  },
  {
   "cell_type": "markdown",
   "metadata": {},
   "source": [
    "# Referrences\n",
    "_Crotty, J. (2009) ‘Structural causes of the global financial crisis: A critical assessment of the “new financial architecture”’, Cambridge Journal of Economics, 33(4 SPEC. ISS.), pp. 563–580. doi: 10.1093/cje/bep023._  \n",
    "  \n",
    "_Dominique, C. (2008) ‘Economics and Econometrics Research Institute Behind the 2008 Capital Market Collapse C-René Dominique EERI Research Paper Series No 17/2008’, (17)._  \n",
    "  \n",
    "_Kiley, M. T. (2018) ‘Quantitative Easing and the “New Normal” in Monetary Policy’, Ssrn. doi: 10.17016/FEDS.2018.004._  "
   ]
  }
 ],
 "metadata": {
  "kernelspec": {
   "display_name": "Python 3",
   "language": "python",
   "name": "python3"
  },
  "language_info": {
   "codemirror_mode": {
    "name": "ipython",
    "version": 3
   },
   "file_extension": ".py",
   "mimetype": "text/x-python",
   "name": "python",
   "nbconvert_exporter": "python",
   "pygments_lexer": "ipython3",
   "version": "3.6.6"
  }
 },
 "nbformat": 4,
 "nbformat_minor": 2
}
