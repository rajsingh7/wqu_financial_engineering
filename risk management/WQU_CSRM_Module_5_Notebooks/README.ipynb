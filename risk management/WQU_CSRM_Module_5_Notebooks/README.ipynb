{
 "cells": [
  {
   "cell_type": "markdown",
   "metadata": {},
   "source": [
    "# Introduction"
   ]
  },
  {
   "cell_type": "markdown",
   "metadata": {},
   "source": [
    "Welcome to Case Studies in Financial Risk Management. This course is going to aim to be equal parts quantitative and qualititative, building on and integrating many of the idea covered in previous courses.  \n",
    "  \n",
    "We are going to try similate, visualize and experiment with as much data as possible, using it to illustrate many of the key concepts you will be required to consider.  In order to do this we will be making use of Python 3.6.6.  Most of the reports will be done in [jupyter notebooks](http://jupyter.org/about) which you have already explored and which allows you to integrating code, images, references and text all one file.  Most of the analysis will be done using [Jupyter Lab](https://jupyterlab.readthedocs.io/en/stable/getting_started/overview.html), a 'next-generation web-based user interface for Project Jupyter', or in Notebooks.  \n",
    "  \n",
    "In order to ensure you have all the right tools and packages installed, we are going to be using [Anaconda](https://www.anaconda.com/what-is-anaconda/), a package manager which should ensure things run smoothly.  Code across all these assignment was run on [Ubuntu 18.04](http://releases.ubuntu.com/18.04/), and while that should not be an issue, if you are using Windows or Mac OS, if you run into trouble this may be the problem.  All these tools are free to use and download and have growing [support in companies in Data science and Finance](https://news.efinancialcareers.com/dk-en/197544/demand-programming-languages-wall-street).  While many other languages can do just as well, the readability, extensibility and ease of use  of Python make it a great tool for what we will be covering.  "
   ]
  },
  {
   "cell_type": "markdown",
   "metadata": {},
   "source": [
    "# Setup"
   ]
  },
  {
   "cell_type": "markdown",
   "metadata": {},
   "source": [
    "Let's start with Anaconda. You will need to start by downloading and installing Anaconda for your particular machine.  This can be done at https://www.anaconda.com/download/ and downloading the Python 3.6 version.  While the website should automatically detect which operating system you are running, please double check to make sure you have downloaded the correct file.  While there are a number of tutorials online to help with the installation, Anaconda has documentation to ensure you are following the correct steps for your system at https://conda.io/docs/user-guide/install/linux.html.  \n",
    "\n",
    "This can be done with the following Bash commands:  \n",
    "```\n",
    "curl https://repo.anaconda.com/archive/Anaconda3-5.2.0-Linux-x86_64.sh > anaconda.sh\n",
    "sudo chmod +x anaconda.sh\n",
    "bash anaconda.sh\n",
    "```\n",
    "  \n",
    "Anaconda has a number of ways to use the package manager, and while Anaconda does have a great Graphical User Interface (GUI) for beginners, we primarily interacting with it in the terminal using Bash.  "
   ]
  },
  {
   "cell_type": "markdown",
   "metadata": {},
   "source": [
    "![Anaconda-Navigator GUI](./Media/anaconda-navigator.png)"
   ]
  },
  {
   "cell_type": "markdown",
   "metadata": {},
   "source": [
    "Once you have installed Anaconda, you should be almost ready to go.  While you can activate a environment from a GUI, you can in terminal activate an environment by typing `source activate FinEng`, where FinEng is the environment name.  "
   ]
  },
  {
   "cell_type": "markdown",
   "metadata": {},
   "source": [
    "Before we are continue, let's double check that everything is up and running by typing `python` in the terminal.  You should get some output that looks like this:  \n",
    "```\n",
    "Python 3.6.6 |Anaconda, Inc.| (default, Jun 28 2018, 17:14:51)  \n",
    "[GCC 7.2.0] on linux  \n",
    "Type \"help\", \"copyright\", \"credits\" or \"license\" for more information.  \n",
    "```  \n",
    "  \n",
    "You can check that it is then working by typing code in the code block below:"
   ]
  },
  {
   "cell_type": "code",
   "execution_count": 2,
   "metadata": {},
   "outputs": [
    {
     "data": {
      "text/plain": [
       "'3.6.6'"
      ]
     },
     "execution_count": 2,
     "metadata": {},
     "output_type": "execute_result"
    }
   ],
   "source": [
    "import platform\n",
    "platform.python_version()"
   ]
  },
  {
   "cell_type": "markdown",
   "metadata": {},
   "source": [
    "To open Jupyter Notebook, simply click the Launch button in the Anaconda GUI, or in your terminal type `jupyter --port=8888` and it should open your browser on localhost with port 8888.  If it does not just open your browser and type `http://localhost:8888/tree`.  You should see something like this ![Jupyter Notebook Interface](./Media/jupyter-notebook.png)"
   ]
  },
  {
   "cell_type": "markdown",
   "metadata": {},
   "source": [
    "Well done, you have made it through Setup!  Things cannot get harder from here.  If you have issues, Google and Bing are your friends.  Being able to figure things out, find resources and solve problems on your own is crucial to being a good Financial Engineer, so try your best to make it a learning experience.  "
   ]
  }
 ],
 "metadata": {
  "kernelspec": {
   "display_name": "Python 3",
   "language": "python",
   "name": "python3"
  },
  "language_info": {
   "codemirror_mode": {
    "name": "ipython",
    "version": 3
   },
   "file_extension": ".py",
   "mimetype": "text/x-python",
   "name": "python",
   "nbconvert_exporter": "python",
   "pygments_lexer": "ipython3",
   "version": "3.7.0"
  }
 },
 "nbformat": 4,
 "nbformat_minor": 2
}
